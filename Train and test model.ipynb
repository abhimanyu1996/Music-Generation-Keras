{
 "cells": [
  {
   "cell_type": "markdown",
   "metadata": {},
   "source": [
    "# Music generation\n",
    "\n",
    "This file is divided into 3 parts:\n",
    "    1. Convert MIDI files to csv\n",
    "    2. Train Model (and save checkpoints)\n",
    "    3. Generate Results (generate MIDI files)\n",
    "\n",
    "Every part can be run independently"
   ]
  },
  {
   "cell_type": "markdown",
   "metadata": {},
   "source": [
    "## PART 1: Convert MIDI files to csv"
   ]
  },
  {
   "cell_type": "code",
   "execution_count": null,
   "metadata": {},
   "outputs": [],
   "source": [
    "import glob\n",
    "from music21 import converter, instrument, note, chord\n",
    "import numpy as np\n",
    "from keras.utils import np_utils"
   ]
  },
  {
   "cell_type": "code",
   "execution_count": null,
   "metadata": {},
   "outputs": [],
   "source": [
    "notes = []\n",
    "\n",
    "for file in glob.glob(\"midi_songs/*.mid\"):\n",
    "    midi = converter.parse(file)\n",
    "    notes_to_parse = midi.flat.notes\n",
    "        \n",
    "    for elements in notes_to_parse:\n",
    "        if isinstance(elements, note.Note):\n",
    "            notes.append(str(elements.pitch))\n",
    "        elif isinstance(elements, chord.Chord):\n",
    "            notes.append('.'.join(str(n) for n in elements.normalOrder))\n",
    "            \n",
    "    notes.append(\"<eof>\")\n",
    "    \n",
    "inotes = [x for x in sorted(set(notes))]"
   ]
  },
  {
   "cell_type": "code",
   "execution_count": null,
   "metadata": {},
   "outputs": [],
   "source": [
    "seq_len = 100\n",
    "network_input = []\n",
    "network_output = []\n",
    "\n",
    "flag = True\n",
    "nexteof = -1\n",
    "while flag:\n",
    "    startnext = nexteof+1\n",
    "    nexteof = notes.index(\"<eof>\",startnext)\n",
    "    if nexteof == len(notes)-1:\n",
    "        flag = False\n",
    "        \n",
    "    for i in range(startnext, nexteof-seq_len):\n",
    "        sequence_in = notes[i:i+seq_len]\n",
    "        sequence_out = notes[i+seq_len]\n",
    "        network_input.append([note_to_int[x] for x in sequence_in])\n",
    "        network_output.append(note_to_int[sequence_out])\n",
    "        \n",
    "n_patterns = len(network_input)\n",
    "network_input = np.reshape(network_input, (n_patterns,seq_len)) \n",
    "network_input = network_input/float(n_vocab)\n",
    "\n",
    "network_output = np_utils.to_categorical(network_output)"
   ]
  },
  {
   "cell_type": "code",
   "execution_count": null,
   "metadata": {},
   "outputs": [],
   "source": [
    "np.savetxt(\"network_input.csv\",network_input,delimiter=',')\n",
    "np.savetxt(\"network_output.csv\",network_output,delimiter=',')"
   ]
  },
  {
   "cell_type": "markdown",
   "metadata": {},
   "source": [
    "## PART 2: Train Model"
   ]
  },
  {
   "cell_type": "code",
   "execution_count": null,
   "metadata": {},
   "outputs": [],
   "source": [
    "import glob\n",
    "from music21 import converter, instrument, note, chord\n",
    "import numpy as np\n",
    "from keras.utils import np_utils\n",
    "from keras.models import Sequential\n",
    "from keras.layers import Dense, Activation, Dropout, LSTM\n",
    "from keras.callbacks import ModelCheckpoint, Callback"
   ]
  },
  {
   "cell_type": "code",
   "execution_count": null,
   "metadata": {},
   "outputs": [],
   "source": [
    "network_input = np.loadtxt(\"network_input.csv\",delimiter=',')\n",
    "network_output = np.loadtxt(\"network_output.csv\",delimiter=',')\n",
    "\n",
    "n_patterns = len(network_input)\n",
    "seq_len = network_input.shape[1]\n",
    "n_vocab = 359\n",
    "network_input = np.reshape(network_input, (n_patterns, seq_len,1))"
   ]
  },
  {
   "cell_type": "code",
   "execution_count": null,
   "metadata": {},
   "outputs": [],
   "source": [
    "model = Sequential()\n",
    "model.add(LSTM(\n",
    "        512,\n",
    "        input_shape=(network_input.shape[1], network_input.shape[2]),\n",
    "        return_sequences=True\n",
    "    ))\n",
    "model.add(Dropout(0.3))\n",
    "model.add(LSTM(512, return_sequences=True))\n",
    "model.add(Dropout(0.3))\n",
    "model.add(LSTM(256))\n",
    "model.add(Dense(256))\n",
    "model.add(Dropout(0.3))\n",
    "model.add(Dense(n_vocab))\n",
    "model.add(Activation('softmax'))\n",
    "model.compile(loss='categorical_crossentropy', optimizer='rmsprop', metrics=['accuracy','mse', 'mae', 'mape', 'cosine'])"
   ]
  },
  {
   "cell_type": "code",
   "execution_count": null,
   "metadata": {},
   "outputs": [],
   "source": [
    "filepath = \"weights-improvement-{epoch:02d}-{loss:.4f}-bigger.hdf5\"    \n",
    "\n",
    "checkpoint = ModelCheckpoint(\n",
    "    filepath, monitor='loss', \n",
    "    verbose=0,        \n",
    "    save_best_only=True,        \n",
    "    mode='min'\n",
    ")    \n",
    "callbacks_list = [checkpoint]     \n",
    "\n",
    "model.fit(network_input, network_output, epochs=20, batch_size=1024, callbacks=callbacks_list)"
   ]
  },
  {
   "cell_type": "markdown",
   "metadata": {},
   "source": [
    "## PART 3: Generate results"
   ]
  },
  {
   "cell_type": "code",
   "execution_count": null,
   "metadata": {},
   "outputs": [],
   "source": [
    "#model\n",
    "from keras.models import Sequential\n",
    "from keras.layers import Dense, Activation, Dropout, LSTM\n",
    "from keras.callbacks import ModelCheckpoint\n",
    "from music21 import converter, instrument, note, chord, stream\n",
    "import numpy as np"
   ]
  },
  {
   "cell_type": "code",
   "execution_count": null,
   "metadata": {},
   "outputs": [],
   "source": [
    "network_input = np.loadtxt(\"network_input.csv\",delimiter=',')\n",
    "network_output = np.loadtxt(\"network_output.csv\",delimiter=',')\n",
    "notes = np.loadtxt(\"allnotes.csv\",delimiter=\",\",dtype='str')\n",
    "int_to_note = dict((number,note) for number,note in enumerate(notes))\n",
    "\n",
    "n_patterns = len(network_input)\n",
    "seq_len = network_input.shape[1]\n",
    "n_vocab = len(notes)\n",
    "network_input = np.reshape(network_input, (n_patterns, seq_len,1))"
   ]
  },
  {
   "cell_type": "code",
   "execution_count": null,
   "metadata": {},
   "outputs": [],
   "source": [
    "model = Sequential()\n",
    "model.add(LSTM(\n",
    "        512,\n",
    "        input_shape=(network_input.shape[1], network_input.shape[2]),\n",
    "        return_sequences=True\n",
    "    ))\n",
    "model.add(Dropout(0.3))\n",
    "model.add(LSTM(512, return_sequences=True))\n",
    "model.add(Dropout(0.3))\n",
    "model.add(LSTM(256))\n",
    "model.add(Dense(256))\n",
    "model.add(Dropout(0.3))\n",
    "model.add(Dense(n_vocab))\n",
    "model.add(Activation('softmax'))\n",
    "model.compile(loss='categorical_crossentropy', optimizer='rmsprop')\n",
    "\n",
    "model.load_weights('weights-improvement-t6-70-0.2581-bigger.hdf5')"
   ]
  },
  {
   "cell_type": "code",
   "execution_count": null,
   "metadata": {},
   "outputs": [],
   "source": [
    "start = np.random.randint(0, len(network_input)-1)\n",
    "\n",
    "pattern = network_input[start].tolist()\n",
    "prediction_output = []\n",
    "\n",
    "for note_index in range(500):\n",
    "    prediction_input = np.reshape(np.array(pattern), (1, len(pattern), 1))\n",
    "    #prediction_input = prediction_input / float(n_vocab)\n",
    "    \n",
    "    #predict\n",
    "    prediction = model.predict(prediction_input, verbose=0)\n",
    "    \n",
    "    index = np.argmax(prediction)\n",
    "    result = int_to_note[index]\n",
    "    prediction_output.append(result)\n",
    "    \n",
    "    #np.append(pattern, index)\n",
    "    pattern.append([index/n_vocab])\n",
    "    pattern = pattern[1:]\n",
    "    #np.delete(pattern,0)\n",
    "    print(\"notes are \",result, index)"
   ]
  },
  {
   "cell_type": "code",
   "execution_count": null,
   "metadata": {},
   "outputs": [],
   "source": [
    "offset = 0\n",
    "output_notes = []\n",
    "# create note and chord objects based on the values generated by the model\n",
    "for pattern in prediction_output:\n",
    "    # pattern is a chord\n",
    "    if ('.' in pattern) or pattern.isdigit():\n",
    "        notes_in_chord = pattern.split('.')\n",
    "        notes = []\n",
    "        for current_note in notes_in_chord:\n",
    "            new_note = note.Note(int(current_note))\n",
    "            new_note.storedInstrument = instrument.Piano()\n",
    "            notes.append(new_note)\n",
    "        new_chord = chord.Chord(notes)\n",
    "        new_chord.offset = offset\n",
    "        output_notes.append(new_chord)\n",
    "    # pattern is a note\n",
    "    else:\n",
    "        new_note = note.Note(pattern)\n",
    "        new_note.offset = offset\n",
    "        new_note.storedInstrument = instrument.Piano()\n",
    "        output_notes.append(new_note)\n",
    "    # increase offset each iteration so that notes do not stack\n",
    "    offset += 0.5\n",
    "\n",
    "midi_stream = stream.Stream(output_notes)\n",
    "midi_stream.write('midi', fp='test_output.mid')"
   ]
  }
 ],
 "metadata": {
  "kernelspec": {
   "display_name": "Python 3",
   "language": "python",
   "name": "python3"
  },
  "language_info": {
   "codemirror_mode": {
    "name": "ipython",
    "version": 3
   },
   "file_extension": ".py",
   "mimetype": "text/x-python",
   "name": "python",
   "nbconvert_exporter": "python",
   "pygments_lexer": "ipython3",
   "version": "3.6.4"
  }
 },
 "nbformat": 4,
 "nbformat_minor": 2
}
